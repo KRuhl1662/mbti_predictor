{
 "cells": [
  {
   "cell_type": "code",
   "execution_count": 1,
   "metadata": {},
   "outputs": [],
   "source": [
    "# import dependencies\n",
    "import pandas as pd\n",
    "import numpy as np\n",
    "import matplotlib.pyplot as plt\n",
    "from collections import Counter\n",
    "\n",
    "import nltk\n",
    "from nltk.stem import PorterStemmer\n",
    "ps = nltk.PorterStemmer()\n",
    "from nltk.stem import WordNetLemmatizer \n",
    "stemmer = WordNetLemmatizer()\n",
    "stopwords =nltk.corpus.stopwords.words('english')\n",
    "\n",
    "from sklearn.ensemble import RandomForestClassifier\n",
    "from sklearn.model_selection import GridSearchCV\n",
    "from sklearn.feature_extraction.text import TfidfVectorizer\n",
    "from sklearn.feature_extraction.text import CountVectorizer\n",
    "\n",
    "import re\n",
    "import string\n",
    "\n",
    "import joblib\n"
   ]
  },
  {
   "cell_type": "code",
   "execution_count": 2,
   "metadata": {},
   "outputs": [],
   "source": [
    "# import csv\n",
    "full_data = pd.read_csv(\"mbti_1.csv\")\n",
    "\n",
    "# selecting random percentage of rows because of memory issues\n",
    "data = full_data.sample(frac = 0.1)\n",
    "data.columns = ['type', 'posts']"
   ]
  },
  {
   "cell_type": "code",
   "execution_count": 3,
   "metadata": {},
   "outputs": [],
   "source": [
    "X = data['posts'].values\n",
    "y = data['type'].values"
   ]
  },
  {
   "cell_type": "code",
   "execution_count": 4,
   "metadata": {},
   "outputs": [],
   "source": [
    "posts = []\n",
    "\n",
    "for text in range(0, len(X)):\n",
    "    # Remove all the special characters\n",
    "    post = re.sub(r'\\W', ' ', str(X[text]))\n",
    "    \n",
    "    # remove all single characters\n",
    "    post = re.sub(r'\\s+[a-zA-Z]\\s+', ' ', post)\n",
    "    \n",
    "    # Remove single characters from the start\n",
    "    post = re.sub(r'\\^[a-zA-Z]\\s+', ' ', post) \n",
    "    \n",
    "    # Substituting multiple spaces with single space\n",
    "    post = re.sub(r'\\s+', ' ', post, flags=re.I)\n",
    "    \n",
    "    # Removing prefixed 'b'\n",
    "#     post = re.sub(r'^b\\s+', '', post)\n",
    "    \n",
    "    # Converting to Lowercase\n",
    "    post = post.lower()\n",
    "    \n",
    "    # Lemmatization\n",
    "    post = post.split()\n",
    "\n",
    "    post = [stemmer.lemmatize(word) for word in post]\n",
    "    post = ' '.join(post)\n",
    "    \n",
    "    posts.append(post)"
   ]
  },
  {
   "cell_type": "code",
   "execution_count": 5,
   "metadata": {},
   "outputs": [],
   "source": [
    "# # removing piping\n",
    "# data['posts']= data['posts'].str.replace('|',' ')\n",
    "\n",
    "# # removing '\n",
    "# data['posts']= data['posts'].str.replace(\"'\",'')\n",
    "\n",
    "# # removing url's from posts\n",
    "# data['posts'] = data['posts'].str.replace('http\\S+|www.\\S+', '', case=False)\n",
    "\n",
    "# # change case to lower\n",
    "# data['posts'] = data['posts'].str.lower()\n",
    "\n",
    "\n",
    "# #remove punctuation from posts\n",
    "\n",
    "# def remove_punctuation(text):\n",
    "#     no_punctuation = \"\".join([char for char in text if char not in string.punctuation])\n",
    "#     return no_punctuation\n",
    "\n",
    "# data['body_text_clean'] = data['posts'].apply(lambda x: remove_punctuation(x))\n",
    "\n",
    "# # pulling types from type column\n",
    "# mbti_types = data['type'].unique()\n",
    "\n",
    "# # types to list instead of array\n",
    "# mbti_list = mbti_types.tolist()\n",
    "\n",
    "# # lowercasing types\n",
    "# mbti_new = [x.lower() for x in mbti_list]\n",
    "\n",
    "# # remove references to mbti type in body_text_clean column\n",
    "\n",
    "# for item in mbti_new:\n",
    "#     data['body_text_clean'] = data['body_text_clean'].str.replace(item , \"\")\n",
    "    \n",
    "# # # apply word_tokenize to all records\n",
    "# # from nltk.tokenize import word_tokenize\n",
    "\n",
    "# # data['tokenized'] = data['body_text_clean'].apply(word_tokenize)\n",
    "\n",
    "\n",
    "# # # remove stopwords\n",
    "# # def stopword_removal(text):\n",
    "# #     stop_words = [item for item in text if item not in stopwords]\n",
    "# #     return stop_words\n",
    "\n",
    "# # data['stopwords'] = data['tokenized'].apply(lambda x: stopword_removal(x))\n",
    "\n",
    "# def lemma_words(lemma):\n",
    "#     lemmatize = [lm.lemmatize(word) for word in lemma]\n",
    "#     return lemmatize\n",
    "\n",
    "# data['lemmatized'] = data['body_text_clean'].apply(lambda x: lemma_words(x))\n",
    "\n"
   ]
  },
  {
   "cell_type": "code",
   "execution_count": 6,
   "metadata": {},
   "outputs": [],
   "source": [
    "count_vect = CountVectorizer(max_features=1500, stop_words=stopwords)\n",
    "X = count_vect.fit_transform(posts).toarray()"
   ]
  },
  {
   "cell_type": "code",
   "execution_count": 7,
   "metadata": {},
   "outputs": [],
   "source": [
    "from sklearn.model_selection import train_test_split\n",
    "X_train, X_test, y_train, y_test = train_test_split(X, y) \n"
   ]
  },
  {
   "cell_type": "code",
   "execution_count": 8,
   "metadata": {},
   "outputs": [
    {
     "data": {
      "text/plain": [
       "RandomForestClassifier(n_estimators=1000, random_state=0)"
      ]
     },
     "execution_count": 8,
     "metadata": {},
     "output_type": "execute_result"
    }
   ],
   "source": [
    "rf_class = RandomForestClassifier(n_estimators=1000, random_state=0)\n",
    "rf_class.fit(X_train, y_train)"
   ]
  },
  {
   "cell_type": "code",
   "execution_count": 9,
   "metadata": {},
   "outputs": [],
   "source": [
    "y_pred = rf_class.predict(X_test)"
   ]
  },
  {
   "cell_type": "code",
   "execution_count": 10,
   "metadata": {},
   "outputs": [
    {
     "name": "stdout",
     "output_type": "stream",
     "text": [
      "[[ 0  0  0  0  0  0  0  2  1  0  0  0  0  0  0]\n",
      " [ 0  2  0  0  0  0  0  3  3  0  2  0  0  0  0]\n",
      " [ 0  0  0  0  0  0  0  0  0  1  1  0  0  0  0]\n",
      " [ 0  0  0  5  0  0  0  5  7  0  3  0  0  0  0]\n",
      " [ 0  0  0  0  0  0  0  0  1  0  1  0  0  0  0]\n",
      " [ 0  0  0  0  0  0  0  1  0  0  0  0  0  0  0]\n",
      " [ 0  0  0  0  0  0  0  0  1  0  1  0  0  0  0]\n",
      " [ 0  1  0  1  0  0  0 23 18  2  3  0  0  0  0]\n",
      " [ 0  0  0  0  0  0  0  1 44  0  0  0  0  0  0]\n",
      " [ 0  0  0  0  0  0  0  6  7 12  3  0  0  0  0]\n",
      " [ 0  0  0  0  0  0  0  0  4  0 26  0  0  0  0]\n",
      " [ 0  0  0  0  0  0  0  2  4  0  0  0  0  0  0]\n",
      " [ 0  0  0  0  0  0  0  1  4  0  1  0  0  0  0]\n",
      " [ 0  0  0  0  0  0  0  0  5  0  1  0  0  0  0]\n",
      " [ 0  0  0  0  0  0  0  2  5  0  1  0  0  0  0]]\n",
      "              precision    recall  f1-score   support\n",
      "\n",
      "        ENFJ       0.00      0.00      0.00         3\n",
      "        ENFP       0.67      0.20      0.31        10\n",
      "        ENTJ       0.00      0.00      0.00         2\n",
      "        ENTP       0.83      0.25      0.38        20\n",
      "        ESFJ       0.00      0.00      0.00         2\n",
      "        ESFP       0.00      0.00      0.00         1\n",
      "        ESTP       0.00      0.00      0.00         2\n",
      "        INFJ       0.50      0.48      0.49        48\n",
      "        INFP       0.42      0.98      0.59        45\n",
      "        INTJ       0.80      0.43      0.56        28\n",
      "        INTP       0.60      0.87      0.71        30\n",
      "        ISFJ       0.00      0.00      0.00         6\n",
      "        ISFP       0.00      0.00      0.00         6\n",
      "        ISTJ       0.00      0.00      0.00         6\n",
      "        ISTP       0.00      0.00      0.00         8\n",
      "\n",
      "    accuracy                           0.52       217\n",
      "   macro avg       0.26      0.21      0.20       217\n",
      "weighted avg       0.49      0.52      0.45       217\n",
      "\n",
      "0.5161290322580645\n"
     ]
    },
    {
     "name": "stderr",
     "output_type": "stream",
     "text": [
      "C:\\Users\\ruhlk\\anaconda3\\envs\\PythonAdv\\lib\\site-packages\\sklearn\\metrics\\_classification.py:1221: UndefinedMetricWarning: Precision and F-score are ill-defined and being set to 0.0 in labels with no predicted samples. Use `zero_division` parameter to control this behavior.\n",
      "  _warn_prf(average, modifier, msg_start, len(result))\n"
     ]
    }
   ],
   "source": [
    "from sklearn.metrics import classification_report, confusion_matrix, accuracy_score\n",
    "\n",
    "print(confusion_matrix(y_test,y_pred))\n",
    "print(classification_report(y_test,y_pred))\n",
    "print(accuracy_score(y_test, y_pred))"
   ]
  },
  {
   "cell_type": "code",
   "execution_count": 11,
   "metadata": {},
   "outputs": [],
   "source": [
    "import pickle\n"
   ]
  },
  {
   "cell_type": "code",
   "execution_count": 12,
   "metadata": {},
   "outputs": [],
   "source": [
    "# yo uname the file here\n",
    "with open('mbti_model.pickle', 'wb') as f:\n",
    "     pickle.dump(rf_class, f)\n",
    "        \n",
    "with open('vector.pickle', 'wb') as f:\n",
    "    pickle.dump(count_vect,f)"
   ]
  },
  {
   "cell_type": "code",
   "execution_count": null,
   "metadata": {},
   "outputs": [],
   "source": []
  }
 ],
 "metadata": {
  "kernelspec": {
   "display_name": "Python [conda env:PythonAdv] *",
   "language": "python",
   "name": "conda-env-PythonAdv-py"
  },
  "language_info": {
   "codemirror_mode": {
    "name": "ipython",
    "version": 3
   },
   "file_extension": ".py",
   "mimetype": "text/x-python",
   "name": "python",
   "nbconvert_exporter": "python",
   "pygments_lexer": "ipython3",
   "version": "3.6.12"
  }
 },
 "nbformat": 4,
 "nbformat_minor": 4
}
