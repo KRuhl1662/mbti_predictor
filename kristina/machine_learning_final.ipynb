{
 "cells": [
  {
   "cell_type": "code",
   "execution_count": 1,
   "metadata": {},
   "outputs": [],
   "source": [
    "# import dependencies\n",
    "import pandas as pd\n",
    "import numpy as np\n",
    "import matplotlib.pyplot as plt\n",
    "from collections import Counter\n",
    "\n",
    "import nltk\n",
    "from nltk.stem import PorterStemmer\n",
    "ps = nltk.PorterStemmer()\n",
    "from nltk.stem import WordNetLemmatizer \n",
    "stemmer = WordNetLemmatizer()\n",
    "stopwords =nltk.corpus.stopwords.words('english')\n",
    "\n",
    "from sklearn.ensemble import RandomForestClassifier\n",
    "from sklearn.model_selection import GridSearchCV\n",
    "from sklearn.feature_extraction.text import TfidfVectorizer\n",
    "from sklearn.feature_extraction.text import CountVectorizer\n",
    "\n",
    "import re\n",
    "import string\n",
    "\n",
    "import joblib\n"
   ]
  },
  {
   "cell_type": "code",
   "execution_count": 2,
   "metadata": {},
   "outputs": [],
   "source": [
    "# import csv\n",
    "full_data = pd.read_csv(\"mbti_1.csv\")\n",
    "\n",
    "# selecting random percentage of rows because of memory issues\n",
    "data = full_data.sample(frac = 1.0)\n",
    "data.columns = ['type', 'posts']"
   ]
  },
  {
   "cell_type": "code",
   "execution_count": 3,
   "metadata": {},
   "outputs": [],
   "source": [
    "X = data['posts'].values\n",
    "y = data['type'].values"
   ]
  },
  {
   "cell_type": "code",
   "execution_count": 4,
   "metadata": {},
   "outputs": [],
   "source": [
    "posts = []\n",
    "\n",
    "for text in range(0, len(X)):\n",
    "    \n",
    "    # This removes the special characters\n",
    "    post = re.sub(r'\\W', ' ', str(X[text]))\n",
    "    \n",
    "    # This removes multiple spaces\n",
    "    post = re.sub(r'\\s+', ' ', post, flags=re.I)\n",
    "    \n",
    "    # This converts all text to lower case\n",
    "    post = post.lower()\n",
    "    \n",
    "    # Time to lemmatize\n",
    "    post = post.split()\n",
    "\n",
    "    post = [stemmer.lemmatize(word) for word in post]\n",
    "    post = ' '.join(post)\n",
    "    \n",
    "    posts.append(post)"
   ]
  },
  {
   "cell_type": "code",
   "execution_count": 6,
   "metadata": {},
   "outputs": [],
   "source": [
    "count_vect = CountVectorizer(max_features=1500, stop_words=stopwords)\n",
    "X = count_vect.fit_transform(posts).toarray()"
   ]
  },
  {
   "cell_type": "code",
   "execution_count": 7,
   "metadata": {},
   "outputs": [],
   "source": [
    "from sklearn.model_selection import train_test_split\n",
    "X_train, X_test, y_train, y_test = train_test_split(X, y) \n"
   ]
  },
  {
   "cell_type": "code",
   "execution_count": 8,
   "metadata": {},
   "outputs": [
    {
     "data": {
      "text/plain": [
       "RandomForestClassifier(n_estimators=1000, random_state=0)"
      ]
     },
     "execution_count": 8,
     "metadata": {},
     "output_type": "execute_result"
    }
   ],
   "source": [
    "rf_class = RandomForestClassifier(n_estimators=1000, random_state=0)\n",
    "rf_class.fit(X_train, y_train)"
   ]
  },
  {
   "cell_type": "code",
   "execution_count": 9,
   "metadata": {},
   "outputs": [],
   "source": [
    "y_pred = rf_class.predict(X_test)"
   ]
  },
  {
   "cell_type": "code",
   "execution_count": 10,
   "metadata": {},
   "outputs": [
    {
     "name": "stdout",
     "output_type": "stream",
     "text": [
      "[[  0   2   0   0   0   0   0   0  11  21   0   6   0   0   0   0]\n",
      " [  0  76   0   1   0   0   0   0  22  39  11   5   0   0   0   0]\n",
      " [  0   1   4   1   0   0   0   0   7  21  13   9   0   0   0   1]\n",
      " [  0   4   0  81   0   0   0   0  12  28   8  25   0   0   0   0]\n",
      " [  0   0   0   2   0   0   0   0   2   4   0   2   0   0   0   0]\n",
      " [  0   0   0   0   0   0   0   0   1   3   0   2   0   0   0   0]\n",
      " [  0   0   0   0   0   0   0   0   1   5   1   3   0   0   0   0]\n",
      " [  0   0   0   2   0   0   0   0   9   7   4   6   0   0   0   2]\n",
      " [  0   4   0   6   0   0   0   0 289  71   7   6   0   0   0   1]\n",
      " [  0   3   0   4   0   0   0   0  13 414   7  11   0   0   0   0]\n",
      " [  0   0   0   0   0   0   0   0  20  44 168  29   0   0   0   0]\n",
      " [  0   1   0   5   0   0   0   0   9  54  12 275   0   0   0   0]\n",
      " [  0   0   0   0   0   0   0   0  13  24   1   8   2   0   0   0]\n",
      " [  0   3   0   1   0   0   0   0  11  38   6   7   0   2   0   0]\n",
      " [  0   1   0   0   0   0   0   0   5  25   3   8   0   0   1   0]\n",
      " [  0   1   0   0   0   0   0   0   5  29   5  21   0   0   0  31]]\n",
      "              precision    recall  f1-score   support\n",
      "\n",
      "        ENFJ       0.00      0.00      0.00        40\n",
      "        ENFP       0.79      0.49      0.61       154\n",
      "        ENTJ       1.00      0.07      0.13        57\n",
      "        ENTP       0.79      0.51      0.62       158\n",
      "        ESFJ       0.00      0.00      0.00        10\n",
      "        ESFP       0.00      0.00      0.00         6\n",
      "        ESTJ       0.00      0.00      0.00        10\n",
      "        ESTP       0.00      0.00      0.00        30\n",
      "        INFJ       0.67      0.75      0.71       384\n",
      "        INFP       0.50      0.92      0.65       452\n",
      "        INTJ       0.68      0.64      0.66       261\n",
      "        INTP       0.65      0.77      0.71       356\n",
      "        ISFJ       1.00      0.04      0.08        48\n",
      "        ISFP       1.00      0.03      0.06        68\n",
      "        ISTJ       1.00      0.02      0.05        43\n",
      "        ISTP       0.89      0.34      0.49        92\n",
      "\n",
      "    accuracy                           0.62      2169\n",
      "   macro avg       0.56      0.29      0.30      2169\n",
      "weighted avg       0.66      0.62      0.57      2169\n",
      "\n",
      "0.6191793453204242\n"
     ]
    },
    {
     "name": "stderr",
     "output_type": "stream",
     "text": [
      "C:\\Users\\ruhlk\\anaconda3\\envs\\PythonAdv\\lib\\site-packages\\sklearn\\metrics\\_classification.py:1221: UndefinedMetricWarning: Precision and F-score are ill-defined and being set to 0.0 in labels with no predicted samples. Use `zero_division` parameter to control this behavior.\n",
      "  _warn_prf(average, modifier, msg_start, len(result))\n"
     ]
    }
   ],
   "source": [
    "from sklearn.metrics import classification_report, confusion_matrix, accuracy_score\n",
    "\n",
    "print(confusion_matrix(y_test,y_pred))\n",
    "print(classification_report(y_test,y_pred))\n",
    "print(accuracy_score(y_test, y_pred))"
   ]
  },
  {
   "cell_type": "code",
   "execution_count": 11,
   "metadata": {},
   "outputs": [],
   "source": [
    "import pickle\n"
   ]
  },
  {
   "cell_type": "code",
   "execution_count": 12,
   "metadata": {},
   "outputs": [],
   "source": [
    "# yo uname the file here\n",
    "# with open('mbti_model.pickle', 'wb') as f:\n",
    "#      pickle.dump(rf_class, f)\n",
    "        \n",
    "# with open('vector.pickle', 'wb') as f:\n",
    "#     pickle.dump(count_vect,f)"
   ]
  },
  {
   "cell_type": "code",
   "execution_count": null,
   "metadata": {},
   "outputs": [],
   "source": []
  }
 ],
 "metadata": {
  "kernelspec": {
   "display_name": "Python [conda env:PythonAdv]",
   "language": "python",
   "name": "conda-env-PythonAdv-py"
  },
  "language_info": {
   "codemirror_mode": {
    "name": "ipython",
    "version": 3
   },
   "file_extension": ".py",
   "mimetype": "text/x-python",
   "name": "python",
   "nbconvert_exporter": "python",
   "pygments_lexer": "ipython3",
   "version": "3.6.12"
  }
 },
 "nbformat": 4,
 "nbformat_minor": 4
}
